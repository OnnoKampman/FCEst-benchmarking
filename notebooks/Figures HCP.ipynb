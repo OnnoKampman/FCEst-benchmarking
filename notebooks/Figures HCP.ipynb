{
 "cells": [
  {
   "attachments": {},
   "cell_type": "markdown",
   "metadata": {
    "collapsed": false,
    "pycharm": {
     "name": "#%% md\n"
    }
   },
   "source": [
    "# Plots and figures HCP\n",
    "\n",
    "This notebook contains all code to generate the figures in the associated publications."
   ]
  },
  {
   "cell_type": "code",
   "execution_count": null,
   "metadata": {
    "collapsed": false,
    "pycharm": {
     "name": "#%%\n"
    }
   },
   "outputs": [],
   "source": [
    "%load_ext autoreload\n",
    "%autoreload 2"
   ]
  },
  {
   "cell_type": "code",
   "execution_count": null,
   "metadata": {},
   "outputs": [],
   "source": [
    "import logging\n",
    "import os.path as path\n",
    "import os\n",
    "import socket\n",
    "import sys"
   ]
  },
  {
   "cell_type": "code",
   "execution_count": null,
   "metadata": {
    "collapsed": false,
    "pycharm": {
     "name": "#%%\n"
    }
   },
   "outputs": [],
   "source": [
    "import matplotlib\n",
    "import matplotlib as mpl\n",
    "import matplotlib.pyplot as plt\n",
    "print(\"Your style sheets are located at: {}\".format(path.join(mpl.__path__[0], 'mpl-data', 'stylelib')))\n",
    "\n",
    "import pandas as pd\n",
    "import seaborn as sns\n",
    "\n",
    "%matplotlib inline"
   ]
  },
  {
   "cell_type": "code",
   "execution_count": null,
   "metadata": {
    "collapsed": false,
    "pycharm": {
     "name": "#%%\n"
    }
   },
   "outputs": [],
   "source": [
    "sys.path.append('..')\n",
    "\n",
    "from configs.configs import get_config_dict\n",
    "from helpers.figures import set_size"
   ]
  },
  {
   "cell_type": "code",
   "execution_count": null,
   "metadata": {
    "collapsed": false,
    "pycharm": {
     "name": "#%%\n"
    }
   },
   "outputs": [],
   "source": [
    "plt.style.available"
   ]
  },
  {
   "cell_type": "markdown",
   "metadata": {},
   "source": [
    "## Set configurations (shared across all figures)"
   ]
  },
  {
   "cell_type": "code",
   "execution_count": null,
   "metadata": {
    "collapsed": false,
    "pycharm": {
     "name": "#%%\n"
    }
   },
   "outputs": [],
   "source": [
    "data_dimensionality = 'd15'\n",
    "data_split = 'all'\n",
    "kernel_param = 'kernel_lengthscales'\n",
    "\n",
    "n_time_series = int(data_dimensionality[1:])"
   ]
  },
  {
   "cell_type": "code",
   "execution_count": null,
   "metadata": {
    "collapsed": false,
    "pycharm": {
     "name": "#%%\n"
    }
   },
   "outputs": [],
   "source": [
    "hcp_cfg = get_config_dict(\n",
    "    data_set_name='HCP_PTN1200_recon2',\n",
    "    subset_dimensionality=data_dimensionality,\n",
    "    hostname=socket.gethostname()\n",
    ")"
   ]
  },
  {
   "attachments": {},
   "cell_type": "markdown",
   "metadata": {
    "collapsed": false,
    "pycharm": {
     "name": "#%% md\n"
    }
   },
   "source": [
    "## TVFC estimates"
   ]
  },
  {
   "cell_type": "markdown",
   "metadata": {},
   "source": [
    "### Fig. 6 - TVFC estimates (run on Hivemind)"
   ]
  },
  {
   "cell_type": "code",
   "execution_count": null,
   "metadata": {
    "collapsed": false,
    "pycharm": {
     "name": "#%%\n"
    }
   },
   "outputs": [],
   "source": [
    "from benchmarks.fmri.rs.HCP_PTN1200_recon2.plotters.plot_TVFC_estimates import plot_tvfc_estimates"
   ]
  },
  {
   "cell_type": "markdown",
   "metadata": {},
   "source": [
    "### Fig. 7 - TVFC estimates summary measures"
   ]
  },
  {
   "cell_type": "code",
   "execution_count": null,
   "metadata": {},
   "outputs": [],
   "source": [
    "from benchmarks.fmri.rs.HCP_PTN1200_recon2.plotters.plot_TVFC_estimates_summary_measures import plot_tvfc_summary_measures_mean_over_subjects_all_edges"
   ]
  },
  {
   "cell_type": "code",
   "execution_count": null,
   "metadata": {},
   "outputs": [],
   "source": [
    "model_name = 'SVWP_joint'\n",
    "tvfc_summary_measure = 'mean'\n",
    "\n",
    "tvfc_estimates_git_savedir = os.path.join(\n",
    "    hcp_cfg['git-results-basedir'], 'TVFC_estimates', 'scan_0',\n",
    "    data_split, 'multivariate', 'correlation'\n",
    ")\n",
    "file_name = f\"{model_name:s}_TVFC_{tvfc_summary_measure:s}_mean_over_subjects.csv\"\n",
    "filepath = os.path.join(tvfc_estimates_git_savedir, file_name)\n",
    "mean_over_subjects_tvfc_summaries_df = pd.read_csv(\n",
    "    filepath,\n",
    "    index_col=0\n",
    ")  # (D, D)\n",
    "\n",
    "\n",
    "plot_tvfc_summary_measures_mean_over_subjects_all_edges(\n",
    "    config_dict=hcp_cfg,\n",
    "    summarized_tvfc_df=mean_over_subjects_tvfc_summaries_df,\n",
    "    summary_measure=tvfc_summary_measure,\n",
    "    model_name=model_name,\n",
    "    data_dimensionality='d15',\n",
    "    figures_savedir='/Users/onnokampman/Developer/',\n",
    ")"
   ]
  },
  {
   "cell_type": "code",
   "execution_count": null,
   "metadata": {},
   "outputs": [],
   "source": [
    "from benchmarks.fmri.rs.HCP_PTN1200_recon2.plotters.plot_TVFC_estimates_summary_measures import plot_tvfc_summary_measures_mean_over_subjects_all_edges_joint"
   ]
  },
  {
   "cell_type": "code",
   "execution_count": null,
   "metadata": {},
   "outputs": [],
   "source": [
    "plot_tvfc_summary_measures_mean_over_subjects_all_edges_joint(\n",
    "    config_dict=hcp_cfg,\n",
    "    summarized_tvfc_df=mean_over_subjects_tvfc_summaries_df,\n",
    "    data_dimensionality='d15',\n",
    "    # figures_savedir='/Users/onnokampman/Developer/',\n",
    ")"
   ]
  },
  {
   "attachments": {},
   "cell_type": "markdown",
   "metadata": {
    "collapsed": false,
    "pycharm": {
     "name": "#%% md\n"
    }
   },
   "source": [
    "## Subject measure prediction"
   ]
  },
  {
   "cell_type": "markdown",
   "metadata": {},
   "source": [
    "### Fig. 8 - Morphometricity scores plot"
   ]
  },
  {
   "cell_type": "code",
   "execution_count": null,
   "metadata": {},
   "outputs": [],
   "source": [
    "from benchmarks.fmri.rs.HCP_PTN1200_recon2.subject_measure_prediction.plot_morphometricity_scores_TVFC_summary_measures import plot_morphometricity_scores_joint"
   ]
  },
  {
   "cell_type": "code",
   "execution_count": null,
   "metadata": {},
   "outputs": [],
   "source": [
    "subject_measures_subset = \"cognitive\"\n",
    "\n",
    "subject_measures_list = hcp_cfg[f\"subject-measures-{subject_measures_subset:s}\"]\n",
    "if subject_measures_subset == 'cognitive':\n",
    "    subject_measures_list = hcp_cfg['subject-measures-nuisance-variables'] + subject_measures_list\n",
    "\n",
    "scores_savedir = os.path.join(\n",
    "    hcp_cfg['git-results-basedir'], 'subject_measure_prediction', \n",
    "    'morphometricity', subject_measures_subset\n",
    ")\n",
    "\n",
    "\n",
    "plot_morphometricity_scores_joint(\n",
    "    hcp_cfg,\n",
    "    scores_savedir,\n",
    "    subject_measures_list,\n",
    "    figures_savedir='/Users/onnokampman/Developer/'\n",
    ")"
   ]
  },
  {
   "cell_type": "markdown",
   "metadata": {},
   "source": [
    "### Fig. S - Out of sample plot"
   ]
  },
  {
   "cell_type": "code",
   "execution_count": null,
   "metadata": {
    "collapsed": false,
    "pycharm": {
     "name": "#%%\n"
    }
   },
   "outputs": [],
   "source": [
    "from benchmarks.fmri.rs.HCP_PTN1200_recon2.subject_measure_prediction.plot_out_of_sample_prediction_scores_TVFC_summary_measures import _plot_out_of_sample_prediction_scores, _plot_out_of_sample_prediction_scores_joint, rename_variables_for_plots, _rename_models_for_plots"
   ]
  },
  {
   "cell_type": "code",
   "execution_count": null,
   "metadata": {},
   "outputs": [],
   "source": [
    "metric = 'correlation'\n",
    "tvfc_summary_measure = 'mean'\n",
    "tvfc_estimation_method = 'SVWP_joint'\n",
    "subject_measures_subset = 'cognitive'\n",
    "\n",
    "subject_measures_list = hcp_cfg[f\"subject-measures-{subject_measures_subset:s}\"]\n",
    "if subject_measures_subset == 'cognitive':\n",
    "    subject_measures_list = hcp_cfg['subject-measures-nuisance-variables'] + subject_measures_list\n",
    "\n",
    "scores_savedir = os.path.join(\n",
    "    hcp_cfg['git-results-basedir'], 'subject_measure_prediction',\n",
    "    'out_of_sample_prediction', subject_measures_subset\n",
    ")\n",
    "\n",
    "out_of_sample_prediction_results_df = pd.read_csv(\n",
    "    os.path.join(\n",
    "        scores_savedir, f'{metric:s}_linear_ridge_model_prediction_accuracy_TVFC_{tvfc_summary_measure:s}_{tvfc_estimation_method:s}.csv'\n",
    "    ),\n",
    "    index_col=0\n",
    ")  # (n_permutations, n_subjects)\n",
    "# print('results')\n",
    "# print(out_of_sample_prediction_results_df)\n",
    "\n",
    "out_of_sample_prediction_results_df = out_of_sample_prediction_results_df.loc[:, subject_measures_list]\n",
    "out_of_sample_prediction_results_df = rename_variables_for_plots(out_of_sample_prediction_results_df, axis=0)\n",
    "# out_of_sample_prediction_results_df = _rename_models_for_plots(hcp_cfg, out_of_sample_prediction_results_df)\n",
    "\n",
    "\n",
    "_plot_out_of_sample_prediction_scores(\n",
    "    config_dict=hcp_cfg,\n",
    "    out_of_sample_prediction_results_df=out_of_sample_prediction_results_df,\n",
    "    tvfc_summary_measure=tvfc_summary_measure,\n",
    "    # figures_savedir='/Users/onnokampman/Developer/'\n",
    ")"
   ]
  },
  {
   "cell_type": "code",
   "execution_count": null,
   "metadata": {},
   "outputs": [],
   "source": [
    "_plot_out_of_sample_prediction_scores_joint(\n",
    "    config_dict=hcp_cfg,\n",
    "    scores_savedir=scores_savedir,\n",
    "    subject_measures_list=subject_measures_list,\n",
    "    # performance_metric='prediction_accuracy',\n",
    "    performance_metric='r2_scores',\n",
    "    tvfc_estimation_methods=hcp_cfg['plot-models'],\n",
    "    # figures_savedir='/Users/onnokampman/Developer/'\n",
    ")"
   ]
  },
  {
   "cell_type": "markdown",
   "metadata": {},
   "source": [
    "## Test-retest"
   ]
  },
  {
   "cell_type": "markdown",
   "metadata": {},
   "source": [
    "### Fig. 9 - Edgewise ICC and I2C2 scores"
   ]
  },
  {
   "cell_type": "code",
   "execution_count": null,
   "metadata": {},
   "outputs": [],
   "source": [
    "from benchmarks.fmri.rs.HCP_PTN1200_recon2.test_retest.plot_ICC_edgewise_matrices import plot_icc_scores_per_edge"
   ]
  },
  {
   "cell_type": "code",
   "execution_count": null,
   "metadata": {},
   "outputs": [],
   "source": [
    "icc_scores_filepath = os.path.join(\n",
    "    hcp_cfg['git-results-basedir'], 'test_retest', 'correlation', f'{tvfc_summary_measure:s}_ICCs_{model_name:s}.csv'\n",
    ")\n",
    "summary_measure_icc_df = pd.read_csv(\n",
    "    icc_scores_filepath, \n",
    "    index_col=0,\n",
    ")\n",
    "\n",
    "\n",
    "plot_icc_scores_per_edge(\n",
    "    config_dict=hcp_cfg,\n",
    "    icc_edgewise_df=summary_measure_icc_df,\n",
    "    data_dimensionality='d15',\n",
    "    tvfc_summary_measure=tvfc_summary_measure,\n",
    "    model_name=model_name,\n",
    "    # figures_savedir=\"/Users/onnokampman/Developer/\",\n",
    ")"
   ]
  },
  {
   "cell_type": "code",
   "execution_count": null,
   "metadata": {},
   "outputs": [],
   "source": [
    "from benchmarks.fmri.rs.HCP_PTN1200_recon2.test_retest.plot_ICC_edgewise_matrices import plot_icc_scores_per_edge_joint"
   ]
  },
  {
   "cell_type": "code",
   "execution_count": null,
   "metadata": {},
   "outputs": [],
   "source": [
    "plot_icc_scores_per_edge_joint(\n",
    "    config_dict=hcp_cfg,\n",
    "    data_dimensionality='d15',\n",
    "    figures_savedir=\"/Users/onnokampman/Developer/\",\n",
    ")"
   ]
  },
  {
   "cell_type": "code",
   "execution_count": null,
   "metadata": {},
   "outputs": [],
   "source": [
    "from benchmarks.fmri.rs.HCP_PTN1200_recon2.test_retest.plot_I2C2_scores import plot_i2c2_bar"
   ]
  },
  {
   "cell_type": "code",
   "execution_count": null,
   "metadata": {},
   "outputs": [],
   "source": [
    "plot_i2c2_bar(\n",
    "    config_dict=hcp_cfg,\n",
    "    figures_savedir=\"/Users/onnokampman/Developer/\",\n",
    ")"
   ]
  },
  {
   "cell_type": "markdown",
   "metadata": {},
   "source": [
    "## Brain state analysis"
   ]
  },
  {
   "cell_type": "markdown",
   "metadata": {},
   "source": [
    "### Fig. S8 - Brain state clusters"
   ]
  },
  {
   "cell_type": "code",
   "execution_count": null,
   "metadata": {},
   "outputs": [],
   "source": [
    "from benchmarks.frmi.rs.HCP_PTN1200_recon2.brain_states.plot_brain_states import _plot_brain_state_cluster_centroids"
   ]
  },
  {
   "cell_type": "code",
   "execution_count": null,
   "metadata": {},
   "outputs": [],
   "source": [
    "_plot_brain_state_cluster_centroids(\n",
    "    config_dict=hcp_cfg,\n",
    "    # model_name='SVWP_joint',\n",
    "    # model_name='DCC_joint',\n",
    "    model_name='SW_cross_validated',\n",
    "    n_basis_states=3,\n",
    "    data_dimensionality='d15',\n",
    "    # figures_savedir=\"/Users/onnokampman/Developer/\"\n",
    ")"
   ]
  },
  {
   "attachments": {},
   "cell_type": "markdown",
   "metadata": {
    "collapsed": false,
    "pycharm": {
     "name": "#%% md\n"
    }
   },
   "source": [
    "#### Fig. S - Brain state clustering inertias"
   ]
  },
  {
   "cell_type": "code",
   "execution_count": null,
   "metadata": {
    "collapsed": false,
    "pycharm": {
     "name": "#%%\n"
    }
   },
   "outputs": [],
   "source": [
    "from benchmarks.fmri.rs.HCP_PTN1200_recon2.brain_states.plot_brain_states import _plot_brain_state_cluster_centroids"
   ]
  },
  {
   "cell_type": "code",
   "execution_count": null,
   "metadata": {
    "collapsed": false,
    "pycharm": {
     "name": "#%%\n"
    }
   },
   "outputs": [],
   "source": [
    "hcp_inertias_df = pd.read_csv(\n",
    "    os.path.join(hcp_cfg['git-results-basedir'], 'brain_states', 'correlation_inertias_SVWP_joint.csv'),\n",
    "    index_col=0\n",
    ")\n",
    "hcp_inertias_df"
   ]
  },
  {
   "cell_type": "code",
   "execution_count": null,
   "metadata": {
    "collapsed": false,
    "pycharm": {
     "name": "#%%\n"
    }
   },
   "outputs": [],
   "source": [
    "fig, ax = plt.subplots(\n",
    "    figsize=set_size()\n",
    ")\n",
    "sns.lineplot(\n",
    "    data=hcp_inertias_df,\n",
    "    markers=True,\n",
    "    ax=ax\n",
    ")\n",
    "ax.set_xticks(hcp_cfg['n-brain-states-list'])\n",
    "ax.set_xlabel('number of clusters')\n",
    "ax.set_ylabel('inertia')\n",
    "ax.legend(\n",
    "    title=\"scan\",\n",
    ")"
   ]
  },
  {
   "cell_type": "code",
   "execution_count": null,
   "metadata": {
    "collapsed": false,
    "pycharm": {
     "name": "#%%\n"
    }
   },
   "outputs": [],
   "source": [
    "fig.savefig(\n",
    "    '../figures/hcp/brain_states/inertias_SVWP_joint.pdf',\n",
    "    format='pdf',\n",
    "    bbox_inches='tight'\n",
    ")"
   ]
  },
  {
   "cell_type": "code",
   "execution_count": null,
   "metadata": {
    "collapsed": false,
    "pycharm": {
     "name": "#%%\n"
    }
   },
   "outputs": [],
   "source": [
    "model_name = 'SVWP_joint'\n",
    "n_brain_states = 3\n",
    "\n",
    "_plot_brain_state_cluster_centroids(\n",
    "    config_dict=hcp_cfg,\n",
    "    model_name=model_name,\n",
    "    n_basis_states=n_brain_states,\n",
    "    data_dimensionality=data_dimensionality\n",
    ")"
   ]
  },
  {
   "attachments": {},
   "cell_type": "markdown",
   "metadata": {},
   "source": [
    "#### Fig. 10 - Brain state switch rate"
   ]
  },
  {
   "cell_type": "code",
   "execution_count": null,
   "metadata": {},
   "outputs": [],
   "source": [
    "from benchmarks.fmri.rs.HCP_PTN1200_recon2.brain_states.plot_brain_state_switch_counts import plot_brain_state_switch_count"
   ]
  },
  {
   "cell_type": "code",
   "execution_count": null,
   "metadata": {},
   "outputs": [],
   "source": [
    "plot_brain_state_switch_count(\n",
    "    config_dict=hcp_cfg,\n",
    "    n_basis_states=3,\n",
    "    # figure_savedir=\"/Users/onnokampman/Developer/\"\n",
    ")"
   ]
  },
  {
   "attachments": {},
   "cell_type": "markdown",
   "metadata": {},
   "source": [
    "## Imputation benchmark"
   ]
  },
  {
   "cell_type": "markdown",
   "metadata": {},
   "source": [
    "### Fig. 13 - Imputation benchmark results"
   ]
  },
  {
   "cell_type": "code",
   "execution_count": null,
   "metadata": {},
   "outputs": [],
   "source": [
    "from benchmarks.fmri.rs.HCP_PTN1200_recon2.imputation_study.plot_LEOO_likelihoods import plot_likelihoods_raincloud"
   ]
  },
  {
   "cell_type": "code",
   "execution_count": null,
   "metadata": {},
   "outputs": [],
   "source": [
    "experiment_dimensionality = 'multivariate'\n",
    "\n",
    "all_likelihoods_df = pd.DataFrame()\n",
    "for model_name in hcp_cfg['plot-models']:\n",
    "    likelihoods_filename = f'LEOO_{experiment_dimensionality:s}_likelihoods_{model_name:s}.csv'\n",
    "    test_likelihoods_savedir = os.path.join(hcp_cfg['git-results-basedir'], 'imputation_study')\n",
    "    test_likelihoods_filepath = os.path.join(test_likelihoods_savedir, likelihoods_filename)\n",
    "    if os.path.exists(test_likelihoods_filepath):\n",
    "        likelihoods_df = pd.read_csv(\n",
    "            test_likelihoods_filepath, index_col=0\n",
    "        )  # (n_subjects, n_scans)\n",
    "        likelihoods_array = likelihoods_df.values.reshape(-1)  # (n_subjects * n_scans, 1)\n",
    "\n",
    "        model_name = model_name.replace('SVWP_joint', 'WP')\n",
    "        model_name = model_name.replace('DCC_joint', 'DCC-J')\n",
    "        model_name = model_name.replace('DCC_bivariate_loop', 'DCC-BL')\n",
    "        model_name = model_name.replace('SW_cross_validated', 'SW-CV')\n",
    "        model_name = model_name.replace('_', '-')\n",
    "\n",
    "        all_likelihoods_df[model_name] = likelihoods_array\n",
    "\n",
    "\n",
    "plot_likelihoods_raincloud(\n",
    "    config_dict=hcp_cfg,\n",
    "    all_likelihoods_df=all_likelihoods_df,\n",
    "    data_dimensionality='d15',\n",
    "    experiment_dimensionality='multivariate',\n",
    "    figure_savedir=\"/Users/onnokampman/Developer\"\n",
    ")"
   ]
  },
  {
   "cell_type": "markdown",
   "metadata": {},
   "source": [
    "### Fig. 14 - Edgewise imputation benchmark results"
   ]
  },
  {
   "cell_type": "code",
   "execution_count": null,
   "metadata": {},
   "outputs": [],
   "source": [
    "from benchmarks.fmri.rs.HCP_PTN1200_recon2.imputation_study.plot_edgewise_LEOO_likelihoods import plot_edgewise_imputation_benchmark_scores"
   ]
  },
  {
   "cell_type": "code",
   "execution_count": null,
   "metadata": {},
   "outputs": [],
   "source": [
    "test_likelihoods_savedir = os.path.join(hcp_cfg['git-results-basedir'], 'imputation_study')\n",
    "likelihoods_filename = f'LEOO_{experiment_dimensionality:s}_likelihoods_SVWP_joint_edgewise.csv'\n",
    "likelihoods_df = pd.read_csv(\n",
    "    os.path.join(test_likelihoods_savedir, likelihoods_filename),\n",
    "    index_col=0\n",
    ")  # (D, D)\n",
    "\n",
    "\n",
    "plot_edgewise_imputation_benchmark_scores(\n",
    "    config_dict=hcp_cfg,\n",
    "    edgewise_likelihoods=likelihoods_df,\n",
    "    model_name='SVWP_joint',\n",
    "    figure_savedir=\"/Users/onnokampman/Developer\"\n",
    ")"
   ]
  },
  {
   "cell_type": "code",
   "execution_count": null,
   "metadata": {},
   "outputs": [],
   "source": [
    "from benchmarks.fmri.rs.HCP_PTN1200_recon2.imputation_study.plot_edgewise_LEOO_likelihoods import plot_edgewise_imputation_benchmark_scores_joint"
   ]
  },
  {
   "cell_type": "code",
   "execution_count": null,
   "metadata": {},
   "outputs": [],
   "source": [
    "plot_edgewise_imputation_benchmark_scores_joint(\n",
    "    config_dict=hcp_cfg,\n",
    "    # figure_savedir=\"/Users/onnokampman/Developer\"\n",
    ")"
   ]
  },
  {
   "attachments": {},
   "cell_type": "markdown",
   "metadata": {
    "collapsed": false,
    "pycharm": {
     "name": "#%% md\n"
    }
   },
   "source": [
    "## Kernel lengthscales and optimal window length"
   ]
  },
  {
   "cell_type": "code",
   "execution_count": null,
   "metadata": {},
   "outputs": [],
   "source": [
    "from helpers.kernel_analysis import plot_lengthscale_window_length_relation"
   ]
  },
  {
   "cell_type": "code",
   "execution_count": null,
   "metadata": {
    "collapsed": false,
    "pycharm": {
     "name": "#%%\n"
    }
   },
   "outputs": [],
   "source": [
    "kernel_params_savedir = os.path.join(\n",
    "    hcp_cfg['git-results-basedir'], 'kernel_analysis'\n",
    ")\n",
    "kernel_params_df = pd.read_csv(\n",
    "    os.path.join(kernel_params_savedir, f'{kernel_param:s}_kernel_params.csv'),\n",
    "    index_col=0\n",
    ")\n",
    "print(kernel_params_df)\n",
    "optimal_window_lengths_df = pd.read_csv(\n",
    "    os.path.join(hcp_cfg['git-results-basedir'], 'optimal_window_lengths', data_split, 'optimal_window_lengths.csv'),\n",
    "    index_col=0\n",
    ")\n",
    "print(optimal_window_lengths_df)\n",
    "\n",
    "# Prepare data for plot.\n",
    "assert kernel_params_df.shape == optimal_window_lengths_df.shape\n",
    "kernel_params_array = kernel_params_df.values.reshape(-1, 1)\n",
    "optimal_window_lengths_array = optimal_window_lengths_df.values.reshape(-1, 1)"
   ]
  },
  {
   "cell_type": "code",
   "execution_count": null,
   "metadata": {
    "collapsed": false,
    "pycharm": {
     "name": "#%%\n"
    }
   },
   "outputs": [],
   "source": [
    "plot_lengthscale_window_length_relation(\n",
    "    hcp_cfg,\n",
    "    kernel_params_array,\n",
    "    optimal_window_lengths_array,\n",
    "    # figures_savedir=\"/Users/onnokampman/Developer/\"\n",
    ")"
   ]
  },
  {
   "cell_type": "markdown",
   "metadata": {},
   "source": [
    "### The end"
   ]
  },
  {
   "cell_type": "markdown",
   "metadata": {},
   "source": []
  }
 ],
 "metadata": {
  "kernelspec": {
   "display_name": "Python 3",
   "language": "python",
   "name": "python3"
  },
  "language_info": {
   "codemirror_mode": {
    "name": "ipython",
    "version": 3
   },
   "file_extension": ".py",
   "mimetype": "text/x-python",
   "name": "python",
   "nbconvert_exporter": "python",
   "pygments_lexer": "ipython3",
   "version": "3.10.8"
  }
 },
 "nbformat": 4,
 "nbformat_minor": 0
}
