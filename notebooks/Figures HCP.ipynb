{
 "cells": [
  {
   "attachments": {},
   "cell_type": "markdown",
   "metadata": {
    "collapsed": false,
    "pycharm": {
     "name": "#%% md\n"
    }
   },
   "source": [
    "# Plots and figures HCP"
   ]
  },
  {
   "cell_type": "code",
   "execution_count": null,
   "metadata": {
    "collapsed": false,
    "pycharm": {
     "name": "#%%\n"
    }
   },
   "outputs": [],
   "source": [
    "%load_ext autoreload\n",
    "%autoreload 2\n",
    "\n",
    "import logging\n",
    "import os.path as path\n",
    "import os\n",
    "import socket\n",
    "import sys"
   ]
  },
  {
   "cell_type": "code",
   "execution_count": null,
   "metadata": {
    "collapsed": false,
    "pycharm": {
     "name": "#%%\n"
    }
   },
   "outputs": [],
   "source": [
    "import matplotlib\n",
    "import matplotlib as mpl\n",
    "import matplotlib.pyplot as plt\n",
    "print(\"Your style sheets are located at: {}\".format(path.join(mpl.__path__[0], 'mpl-data', 'stylelib')))\n",
    "\n",
    "import pandas as pd\n",
    "# import pingouin\n",
    "# import scipy.stats\n",
    "import seaborn as sns\n",
    "\n",
    "%matplotlib inline"
   ]
  },
  {
   "cell_type": "code",
   "execution_count": null,
   "metadata": {
    "collapsed": false,
    "pycharm": {
     "name": "#%%\n"
    }
   },
   "outputs": [],
   "source": [
    "sys.path.append('../../..')\n",
    "\n",
    "from configs.configs import get_config_dict\n",
    "from helpers.figures import set_size"
   ]
  },
  {
   "cell_type": "code",
   "execution_count": null,
   "metadata": {
    "collapsed": false,
    "pycharm": {
     "name": "#%%\n"
    }
   },
   "outputs": [],
   "source": [
    "all_styles = [\n",
    "    'seaborn-dark',\n",
    "    'seaborn-darkgrid',\n",
    "    'seaborn-ticks', 'fivethirtyeight', 'seaborn-whitegrid', 'classic',\n",
    "    '_classic_test', 'fast', 'seaborn-talk', 'seaborn-dark-palette', 'seaborn-bright',\n",
    "    'seaborn-pastel', 'grayscale', 'seaborn-notebook', 'ggplot', 'seaborn-colorblind',\n",
    "    'seaborn-muted', 'seaborn', 'Solarize_Light2', 'seaborn-paper',\n",
    "    'bmh', 'tableau-colorblind10', 'seaborn-white', 'dark_background', 'seaborn-poster', 'seaborn-deep'\n",
    "]"
   ]
  },
  {
   "cell_type": "code",
   "execution_count": null,
   "metadata": {
    "collapsed": false,
    "pycharm": {
     "name": "#%%\n"
    }
   },
   "outputs": [],
   "source": [
    "plt.style.available"
   ]
  },
  {
   "cell_type": "code",
   "execution_count": null,
   "metadata": {
    "collapsed": false,
    "pycharm": {
     "name": "#%%\n"
    }
   },
   "outputs": [],
   "source": [
    "sns.set_style('whitegrid')\n",
    "# plt.style.use('tex')"
   ]
  },
  {
   "cell_type": "code",
   "execution_count": null,
   "metadata": {
    "collapsed": false,
    "pycharm": {
     "name": "#%%\n"
    }
   },
   "outputs": [],
   "source": [
    "# However, the figsize argument takes inputs in inches and we have the width of our document in pts. To set the figure size we construct a function to convert from pts to inches and to determine an aesthetic figure height using the golden ratio:"
   ]
  },
  {
   "cell_type": "code",
   "execution_count": null,
   "metadata": {
    "collapsed": false,
    "pycharm": {
     "name": "#%%\n"
    }
   },
   "outputs": [],
   "source": [
    "data_dimensionality = 'd15'\n",
    "data_split = 'all'\n",
    "kernel_param = 'kernel_lengthscales'\n",
    "\n",
    "n_time_series = int(data_dimensionality[1:])"
   ]
  },
  {
   "cell_type": "code",
   "execution_count": null,
   "metadata": {
    "collapsed": false,
    "pycharm": {
     "name": "#%%\n"
    }
   },
   "outputs": [],
   "source": [
    "hcp_cfg = get_config_dict(\n",
    "    data_set_name='HCP_PTN1200_recon2',\n",
    "    subset_dimensionality=data_dimensionality,\n",
    "    hostname=socket.gethostname()\n",
    ")"
   ]
  },
  {
   "attachments": {},
   "cell_type": "markdown",
   "metadata": {
    "collapsed": false,
    "pycharm": {
     "name": "#%% md\n"
    }
   },
   "source": [
    "### TVFC estimates"
   ]
  },
  {
   "cell_type": "markdown",
   "metadata": {},
   "source": [
    "#### Fig. 6"
   ]
  },
  {
   "cell_type": "code",
   "execution_count": null,
   "metadata": {
    "collapsed": false,
    "pycharm": {
     "name": "#%%\n"
    }
   },
   "outputs": [],
   "source": [
    "from experiments.resting_state.HCP_PTN1200_recon2.plotters.plot_TVFC_estimates import _plot_tvfc_estimates\n",
    "\n",
    "# Run this plotter on the Hivemind."
   ]
  },
  {
   "cell_type": "code",
   "execution_count": null,
   "metadata": {},
   "outputs": [],
   "source": []
  },
  {
   "attachments": {},
   "cell_type": "markdown",
   "metadata": {
    "collapsed": false,
    "pycharm": {
     "name": "#%% md\n"
    }
   },
   "source": [
    "### Subject measure prediction"
   ]
  },
  {
   "cell_type": "code",
   "execution_count": null,
   "metadata": {
    "collapsed": false,
    "pycharm": {
     "name": "#%%\n"
    }
   },
   "outputs": [],
   "source": [
    "from experiments.resting_state.HCP_PTN1200_recon2.subject_measure_prediction.plot_out_of_sample_prediction_scores_TVFC_summary_measures import _plot_out_of_sample_prediction_scores, _plot_out_of_sample_prediction_scores_joint, rename_variables_for_plots, _rename_models_for_plots"
   ]
  },
  {
   "cell_type": "code",
   "execution_count": null,
   "metadata": {},
   "outputs": [],
   "source": [
    "metric = 'correlation'\n",
    "tvfc_summary_measure = 'mean'\n",
    "tvfc_estimation_method = 'SVWP_joint'\n",
    "subject_measures_subset = 'cognitive'\n",
    "\n",
    "subject_measures_list = hcp_cfg[f\"subject-measures-{subject_measures_subset:s}\"]\n",
    "if subject_measures_subset == 'cognitive':\n",
    "    subject_measures_list = hcp_cfg['subject-measures-nuisance-variables'] + subject_measures_list\n",
    "\n",
    "scores_savedir = os.path.join(\n",
    "    hcp_cfg['git-results-basedir'], 'subject_measure_prediction',\n",
    "    'out_of_sample_prediction', subject_measures_subset\n",
    ")\n",
    "\n",
    "out_of_sample_prediction_results_df = pd.read_csv(\n",
    "    os.path.join(\n",
    "        scores_savedir, f'{metric:s}_linear_ridge_model_prediction_accuracy_TVFC_{tvfc_summary_measure:s}_{tvfc_estimation_method:s}.csv'\n",
    "    ),\n",
    "    index_col=0\n",
    ")  # (n_permutations, n_subjects)\n",
    "# print('results')\n",
    "# print(out_of_sample_prediction_results_df)\n",
    "\n",
    "out_of_sample_prediction_results_df = out_of_sample_prediction_results_df.loc[:, subject_measures_list]\n",
    "out_of_sample_prediction_results_df = rename_variables_for_plots(out_of_sample_prediction_results_df, axis=0)\n",
    "# out_of_sample_prediction_results_df = _rename_models_for_plots(hcp_cfg, out_of_sample_prediction_results_df)\n",
    "\n",
    "\n",
    "_plot_out_of_sample_prediction_scores(\n",
    "    config_dict=hcp_cfg,\n",
    "    out_of_sample_prediction_results_df=out_of_sample_prediction_results_df,\n",
    "    tvfc_summary_measure=tvfc_summary_measure,\n",
    "    # figures_savedir='/Users/onnokampman/Developer/'\n",
    ")"
   ]
  },
  {
   "cell_type": "code",
   "execution_count": null,
   "metadata": {},
   "outputs": [],
   "source": [
    "_plot_out_of_sample_prediction_scores_joint(\n",
    "    config_dict=hcp_cfg,\n",
    "    scores_savedir=scores_savedir,\n",
    "    subject_measures_list=subject_measures_list,\n",
    "    # performance_metric='prediction_accuracy',\n",
    "    performance_metric='r2_scores',\n",
    "    tvfc_estimation_methods=hcp_cfg['plot-models'],\n",
    "    figures_savedir='/Users/onnokampman/Developer/'\n",
    ")"
   ]
  },
  {
   "cell_type": "markdown",
   "metadata": {},
   "source": [
    "### Test-retest"
   ]
  },
  {
   "cell_type": "code",
   "execution_count": null,
   "metadata": {},
   "outputs": [],
   "source": [
    "from experiments.resting_state.HCP_PTN1200_recon2.test_retest.plot_I2C2_scores import _plot_i2c2_bar"
   ]
  },
  {
   "cell_type": "code",
   "execution_count": null,
   "metadata": {},
   "outputs": [],
   "source": [
    "_plot_i2c2_bar(\n",
    "    config_dict=hcp_cfg,\n",
    "    metric='correlation',\n",
    "    figures_savedir=\"/Users/onnokampman/Developer/\"\n",
    ")"
   ]
  },
  {
   "attachments": {},
   "cell_type": "markdown",
   "metadata": {},
   "source": [
    "### Imputation benchmark (run locally)"
   ]
  },
  {
   "cell_type": "code",
   "execution_count": null,
   "metadata": {},
   "outputs": [],
   "source": [
    "from experiments.resting_state.HCP_PTN1200_recon2.imputation_study.plot_LEOO_likelihoods import _plot_raincloud"
   ]
  },
  {
   "cell_type": "code",
   "execution_count": null,
   "metadata": {},
   "outputs": [],
   "source": [
    "experiment_dimensionality = 'multivariate'\n",
    "\n",
    "all_likelihoods_df = pd.DataFrame()\n",
    "for model_name in hcp_cfg['plot-models']:\n",
    "    likelihoods_filename = f'LEOO_{experiment_dimensionality:s}_likelihoods_{model_name:s}.csv'\n",
    "    test_likelihoods_savedir = os.path.join(hcp_cfg['git-results-basedir'], 'imputation_study')\n",
    "    test_likelihoods_filepath = os.path.join(test_likelihoods_savedir, likelihoods_filename)\n",
    "    if os.path.exists(test_likelihoods_filepath):\n",
    "        likelihoods_df = pd.read_csv(\n",
    "            test_likelihoods_filepath, index_col=0\n",
    "        )  # (n_subjects, n_scans)\n",
    "        likelihoods_array = likelihoods_df.values.reshape(-1)  # (n_subjects * n_scans, 1)\n",
    "\n",
    "        model_name = model_name.replace('SVWP_joint', 'WP')\n",
    "        model_name = model_name.replace('DCC_joint', 'DCC-J')\n",
    "        model_name = model_name.replace('DCC_bivariate_loop', 'DCC-BL')\n",
    "        model_name = model_name.replace('SW_cross_validated', 'SW-CV')\n",
    "        model_name = model_name.replace('_', '-')\n",
    "\n",
    "        all_likelihoods_df[model_name] = likelihoods_array\n",
    "\n",
    "_plot_raincloud(\n",
    "    config_dict=hcp_cfg,\n",
    "    all_likelihoods_df=all_likelihoods_df,\n",
    "    data_dimensionality='d15',\n",
    "    experiment_dimensionality='multivariate',\n",
    "    figure_savedir=\"/Users/onnokampman/Developer\"\n",
    ")"
   ]
  },
  {
   "cell_type": "markdown",
   "metadata": {},
   "source": [
    "### Brain state analysis"
   ]
  },
  {
   "cell_type": "markdown",
   "metadata": {},
   "source": [
    "#### Brain state clusters (Fig. S8)"
   ]
  },
  {
   "cell_type": "code",
   "execution_count": null,
   "metadata": {},
   "outputs": [],
   "source": [
    "from experiments.resting_state.HCP_PTN1200_recon2.brain_states.plot_brain_states import _plot_brain_state_cluster_centroids"
   ]
  },
  {
   "cell_type": "code",
   "execution_count": null,
   "metadata": {},
   "outputs": [],
   "source": [
    "_plot_brain_state_cluster_centroids(\n",
    "    config_dict=hcp_cfg,\n",
    "    # model_name='SVWP_joint',\n",
    "    # model_name='DCC_joint',\n",
    "    model_name='SW_cross_validated',\n",
    "    n_basis_states=3,\n",
    "    data_dimensionality='d15',\n",
    "    figures_savedir=\"/Users/onnokampman/Developer/\"\n",
    ")"
   ]
  },
  {
   "attachments": {},
   "cell_type": "markdown",
   "metadata": {
    "collapsed": false,
    "pycharm": {
     "name": "#%% md\n"
    }
   },
   "source": [
    "#### Brain state clustering inertias"
   ]
  },
  {
   "cell_type": "code",
   "execution_count": null,
   "metadata": {
    "collapsed": false,
    "pycharm": {
     "name": "#%%\n"
    }
   },
   "outputs": [],
   "source": [
    "from experiments.resting_state.HCP_PTN1200_recon2.brain_states.plot_brain_states import _plot_brain_state_cluster_centroids"
   ]
  },
  {
   "cell_type": "code",
   "execution_count": null,
   "metadata": {
    "collapsed": false,
    "pycharm": {
     "name": "#%%\n"
    }
   },
   "outputs": [],
   "source": [
    "hcp_inertias_df = pd.read_csv(\n",
    "    os.path.join(hcp_cfg['git-results-basedir'], 'brain_states', 'correlation_inertias_SVWP_joint.csv'),\n",
    "    index_col=0\n",
    ")\n",
    "hcp_inertias_df"
   ]
  },
  {
   "cell_type": "code",
   "execution_count": null,
   "metadata": {
    "collapsed": false,
    "pycharm": {
     "name": "#%%\n"
    }
   },
   "outputs": [],
   "source": [
    "fig, ax = plt.subplots(\n",
    "    figsize=set_size()\n",
    ")\n",
    "sns.lineplot(\n",
    "    data=hcp_inertias_df,\n",
    "    markers=True,\n",
    "    ax=ax\n",
    ")\n",
    "ax.set_xticks(hcp_cfg['n-brain-states-list'])\n",
    "ax.set_xlabel('number of clusters')\n",
    "ax.set_ylabel('inertia')\n",
    "ax.legend(\n",
    "    title=\"scan\",\n",
    ")"
   ]
  },
  {
   "cell_type": "code",
   "execution_count": null,
   "metadata": {
    "collapsed": false,
    "pycharm": {
     "name": "#%%\n"
    }
   },
   "outputs": [],
   "source": [
    "fig.savefig(\n",
    "    '../figures/hcp/brain_states/inertias_SVWP_joint.pdf',\n",
    "    format='pdf',\n",
    "    bbox_inches='tight'\n",
    ")"
   ]
  },
  {
   "cell_type": "code",
   "execution_count": null,
   "metadata": {
    "collapsed": false,
    "pycharm": {
     "name": "#%%\n"
    }
   },
   "outputs": [],
   "source": [
    "model_name = 'SVWP_joint'\n",
    "n_brain_states = 3\n",
    "\n",
    "_plot_brain_state_cluster_centroids(\n",
    "    config_dict=hcp_cfg,\n",
    "    model_name=model_name,\n",
    "    n_basis_states=n_brain_states,\n",
    "    data_dimensionality=data_dimensionality\n",
    ")"
   ]
  },
  {
   "attachments": {},
   "cell_type": "markdown",
   "metadata": {},
   "source": [
    "#### Brain state switch rate"
   ]
  },
  {
   "cell_type": "code",
   "execution_count": null,
   "metadata": {},
   "outputs": [],
   "source": [
    "from experiments.resting_state.HCP_PTN1200_recon2.brain_states.plot_brain_state_switch_counts import _plot_brain_state_switch_count"
   ]
  },
  {
   "cell_type": "code",
   "execution_count": null,
   "metadata": {},
   "outputs": [],
   "source": [
    "_plot_brain_state_switch_count(\n",
    "    config_dict=hcp_cfg,\n",
    "    n_basis_states=3,\n",
    "    figure_savedir=\"/Users/onnokampman/Developer/\"\n",
    ")"
   ]
  },
  {
   "attachments": {},
   "cell_type": "markdown",
   "metadata": {
    "collapsed": false,
    "pycharm": {
     "name": "#%% md\n"
    }
   },
   "source": [
    "### Kernel lengthscales and optimal window length"
   ]
  },
  {
   "cell_type": "code",
   "execution_count": null,
   "metadata": {},
   "outputs": [],
   "source": [
    "from helpers.kernel_analysis import plot_lengthscale_window_length_relation"
   ]
  },
  {
   "cell_type": "code",
   "execution_count": null,
   "metadata": {
    "collapsed": false,
    "pycharm": {
     "name": "#%%\n"
    }
   },
   "outputs": [],
   "source": [
    "kernel_params_savedir = os.path.join(\n",
    "    hcp_cfg['git-results-basedir'], 'kernel_analysis'\n",
    ")\n",
    "kernel_params_df = pd.read_csv(\n",
    "    os.path.join(kernel_params_savedir, f'{kernel_param:s}_kernel_params.csv'),\n",
    "    index_col=0\n",
    ")\n",
    "print(kernel_params_df)\n",
    "optimal_window_lengths_df = pd.read_csv(\n",
    "    os.path.join(hcp_cfg['git-results-basedir'], 'optimal_window_lengths', data_split, 'optimal_window_lengths.csv'),\n",
    "    index_col=0\n",
    ")\n",
    "print(optimal_window_lengths_df)\n",
    "\n",
    "# Prepare data for plot.\n",
    "assert kernel_params_df.shape == optimal_window_lengths_df.shape\n",
    "kernel_params_array = kernel_params_df.values.reshape(-1, 1)\n",
    "optimal_window_lengths_array = optimal_window_lengths_df.values.reshape(-1, 1)"
   ]
  },
  {
   "cell_type": "code",
   "execution_count": null,
   "metadata": {
    "collapsed": false,
    "pycharm": {
     "name": "#%%\n"
    }
   },
   "outputs": [],
   "source": [
    "plot_lengthscale_window_length_relation(\n",
    "    hcp_cfg,\n",
    "    kernel_params_array,\n",
    "    optimal_window_lengths_array,\n",
    "    figures_savedir=\"/Users/onnokampman/Developer/\"\n",
    ")"
   ]
  },
  {
   "cell_type": "markdown",
   "metadata": {},
   "source": [
    "### The end"
   ]
  },
  {
   "cell_type": "markdown",
   "metadata": {},
   "source": []
  }
 ],
 "metadata": {
  "kernelspec": {
   "display_name": "Python 3",
   "language": "python",
   "name": "python3"
  },
  "language_info": {
   "codemirror_mode": {
    "name": "ipython",
    "version": 3
   },
   "file_extension": ".py",
   "mimetype": "text/x-python",
   "name": "python",
   "nbconvert_exporter": "python",
   "pygments_lexer": "ipython3",
   "version": "3.10.13"
  }
 },
 "nbformat": 4,
 "nbformat_minor": 0
}
