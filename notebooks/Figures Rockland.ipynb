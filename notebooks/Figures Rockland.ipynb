{
 "cells": [
  {
   "attachments": {},
   "cell_type": "markdown",
   "metadata": {
    "collapsed": false,
    "pycharm": {
     "name": "#%% md\n"
    }
   },
   "source": [
    "# Plots and figures Rockland\n",
    "\n",
    "This notebook contains all code to generate the figures in the associated publications."
   ]
  },
  {
   "cell_type": "code",
   "execution_count": null,
   "metadata": {
    "collapsed": false,
    "pycharm": {
     "name": "#%%\n"
    }
   },
   "outputs": [],
   "source": [
    "%load_ext autoreload\n",
    "%autoreload 2"
   ]
  },
  {
   "cell_type": "code",
   "execution_count": null,
   "metadata": {},
   "outputs": [],
   "source": [
    "import logging\n",
    "import os.path as path\n",
    "import os\n",
    "import socket\n",
    "import sys"
   ]
  },
  {
   "cell_type": "code",
   "execution_count": null,
   "metadata": {
    "collapsed": false,
    "pycharm": {
     "name": "#%%\n"
    }
   },
   "outputs": [],
   "source": [
    "import matplotlib\n",
    "import matplotlib as mpl\n",
    "import matplotlib.pyplot as plt\n",
    "print(\"Your style sheets are located at: {}\".format(path.join(mpl.__path__[0], 'mpl-data', 'stylelib')))\n",
    "\n",
    "import numpy as np\n",
    "import pandas as pd\n",
    "import ptitprince as pt\n",
    "import seaborn as sns\n",
    "\n",
    "%matplotlib inline"
   ]
  },
  {
   "cell_type": "code",
   "execution_count": null,
   "metadata": {
    "collapsed": false,
    "pycharm": {
     "name": "#%%\n"
    }
   },
   "outputs": [],
   "source": [
    "sys.path.append('..')\n",
    "\n",
    "from configs.configs import get_config_dict\n",
    "from helpers.figures import set_size"
   ]
  },
  {
   "cell_type": "markdown",
   "metadata": {},
   "source": [
    "## Set configurations (shared across all figures)"
   ]
  },
  {
   "cell_type": "code",
   "execution_count": null,
   "metadata": {
    "collapsed": false,
    "pycharm": {
     "name": "#%%\n"
    }
   },
   "outputs": [],
   "source": [
    "data_split = 'all'\n",
    "kernel_param = 'kernel_lengthscales'\n",
    "model_name = 'SVWP_joint'\n",
    "pp_pipeline = 'custom_fsl_pipeline'"
   ]
  },
  {
   "cell_type": "code",
   "execution_count": null,
   "metadata": {},
   "outputs": [],
   "source": [
    "rockland_cfg = get_config_dict(\n",
    "    data_set_name='rockland',\n",
    "    subset='645',\n",
    "    hostname=socket.gethostname()\n",
    ")"
   ]
  },
  {
   "attachments": {},
   "cell_type": "markdown",
   "metadata": {},
   "source": [
    "## Time series"
   ]
  },
  {
   "cell_type": "markdown",
   "metadata": {},
   "source": [
    "### Fig S13A. - Time series"
   ]
  },
  {
   "cell_type": "code",
   "execution_count": null,
   "metadata": {},
   "outputs": [],
   "source": [
    "from datasets.fmri.tb.rockland.plotters.plot_node_timeseries import _plot_node_timeseries_average_over_subjects, _plot_node_timeseries\n",
    "from helpers.data import normalize_array\n",
    "from helpers.rockland import get_rockland_subjects, get_convolved_stim_array"
   ]
  },
  {
   "cell_type": "code",
   "execution_count": null,
   "metadata": {},
   "outputs": [],
   "source": [
    "roi_list_name = 'final'\n",
    "\n",
    "# Get stimulus time series (convolved with HRF) and normalize for better interpretation.\n",
    "convolved_stim_array = get_convolved_stim_array(config_dict=rockland_cfg)\n",
    "convolved_stim_array = normalize_array(convolved_stim_array, verbose=False)\n",
    "\n",
    "all_subjects_list = get_rockland_subjects(config_dict=rockland_cfg)\n",
    "\n",
    "for i_subject, subject in enumerate(all_subjects_list):\n",
    "    # print(f'\\n> Subject {i_subject+1:d} / {len(all_subjects_list):d}: {subject:s}\\n')\n",
    "    subject_timeseries_df = pd.read_csv(\n",
    "        os.path.join(rockland_cfg['data-basedir'], pp_pipeline, 'node_timeseries', roi_list_name, subject)\n",
    "    )  # (N, D)\n",
    "    if i_subject == 0:\n",
    "        # print(subject_timeseries_df)\n",
    "        mean_over_subjects_timeseries_df = subject_timeseries_df.copy()\n",
    "    else:\n",
    "        mean_over_subjects_timeseries_df += subject_timeseries_df.values\n",
    "mean_over_subjects_timeseries_df /= len(all_subjects_list)\n",
    "# print(mean_over_subjects_timeseries_df)\n",
    "\n",
    "_plot_node_timeseries_average_over_subjects(\n",
    "    config_dict=rockland_cfg,\n",
    "    ts_df=mean_over_subjects_timeseries_df,\n",
    "    convolved_stim_array=convolved_stim_array,\n",
    "    # figures_savedir=\"/Users/onnokampman/Developer/ABL\"\n",
    ")"
   ]
  },
  {
   "cell_type": "markdown",
   "metadata": {},
   "source": [
    "## TVFC estimates"
   ]
  },
  {
   "cell_type": "markdown",
   "metadata": {},
   "source": [
    "### Fig. 11A - TVFC estimates (run on Hivemind)"
   ]
  },
  {
   "cell_type": "code",
   "execution_count": null,
   "metadata": {},
   "outputs": [],
   "source": [
    "from benchmarks.fmri.tb.rockland.plotters.plot_TVFC_estimates import plot_average_over_subject_tvfc_estimates_joint\n",
    "from helpers.rockland import get_rockland_subjects"
   ]
  },
  {
   "cell_type": "code",
   "execution_count": null,
   "metadata": {},
   "outputs": [],
   "source": [
    "all_subjects_list = get_rockland_subjects(config_dict=rockland_cfg)\n",
    "\n",
    "\n",
    "plot_average_over_subject_tvfc_estimates_joint(\n",
    "    config_dict=rockland_cfg,\n",
    "    data_split=data_split,\n",
    "    preprocessing_pipeline=pp_pipeline,\n",
    "    all_subjects_list=all_subjects_list,\n",
    "    edges_to_plot_indices=rockland_cfg['roi-edges-list'],\n",
    "    column_names=rockland_cfg['roi-list'],\n",
    "    # figures_savedir=\"/Users/onnokampman/Developer\",\n",
    ")"
   ]
  },
  {
   "attachments": {},
   "cell_type": "markdown",
   "metadata": {
    "collapsed": false,
    "pycharm": {
     "name": "#%% md\n"
    }
   },
   "source": [
    "## GLM beta"
   ]
  },
  {
   "cell_type": "markdown",
   "metadata": {},
   "source": [
    "### Fig. 11B - GLM betas"
   ]
  },
  {
   "cell_type": "code",
   "execution_count": null,
   "metadata": {
    "collapsed": false,
    "pycharm": {
     "name": "#%%\n"
    }
   },
   "outputs": [],
   "source": [
    "from benchmarks.fmri.tb.rockland.prediction_benchmark.plot_glm_beta import plot_glm_beta_bar, _clean_up_model_names, _clean_up_regressor_names\n",
    "from helpers.rockland import get_edges_names"
   ]
  },
  {
   "cell_type": "code",
   "execution_count": null,
   "metadata": {
    "collapsed": false,
    "pycharm": {
     "name": "#%%\n"
    }
   },
   "outputs": [],
   "source": [
    "all_glm_betas_df = pd.DataFrame(\n",
    "    columns=get_edges_names(rockland_cfg)\n",
    ")\n",
    "for model_name in rockland_cfg['stimulus-prediction-models']:\n",
    "    betas_savedir = os.path.join(rockland_cfg['git-results-basedir'], 'prediction_benchmark')\n",
    "    betas_df = pd.read_csv(\n",
    "        os.path.join(betas_savedir, f'betas_df_{model_name:s}.csv'),\n",
    "        index_col=0\n",
    "    )  # (n_edges, n_regressors)\n",
    "    betas_df = _clean_up_regressor_names(betas_df)\n",
    "    all_glm_betas_df.loc[model_name, :] = betas_df['stim']\n",
    "\n",
    "all_glm_betas_df = all_glm_betas_df.loc[rockland_cfg['plot-stimulus-prediction-models'], :]\n",
    "all_glm_betas_df = _clean_up_model_names(all_glm_betas_df)\n",
    "\n",
    "\n",
    "plot_glm_beta_bar(\n",
    "    config_dict=rockland_cfg,\n",
    "    stimulus_betas_df=all_glm_betas_df,\n",
    "    figures_savedir=\"/Users/onnokampman/Developer/\"\n",
    ")"
   ]
  },
  {
   "attachments": {},
   "cell_type": "markdown",
   "metadata": {},
   "source": [
    "## Imputation benchmark"
   ]
  },
  {
   "cell_type": "markdown",
   "metadata": {},
   "source": [
    "### Fig. 15 - Imputation benchmark"
   ]
  },
  {
   "cell_type": "code",
   "execution_count": null,
   "metadata": {},
   "outputs": [],
   "source": [
    "from benchmarks.fmri.tb.rockland.imputation_study.plot_LEOO_likelihoods import plot_likelihoods_raincloud"
   ]
  },
  {
   "cell_type": "code",
   "execution_count": null,
   "metadata": {},
   "outputs": [],
   "source": [
    "data_split = 'LEOO'\n",
    "\n",
    "all_test_likelihoods_df = pd.DataFrame()\n",
    "for model_name in rockland_cfg['plot-likelihoods-models']:\n",
    "    likelihoods_filename = f'{data_split:s}_likelihoods_{model_name:s}.csv'\n",
    "    test_likelihoods_savedir = os.path.join(rockland_cfg['git-results-basedir'], 'imputation_study')\n",
    "    likelihoods_df = pd.read_csv(\n",
    "        os.path.join(test_likelihoods_savedir, likelihoods_filename),\n",
    "        index_col=0\n",
    "    )  # (n_subjects, 1)\n",
    "    likelihoods_array = likelihoods_df.values.flatten()  # (n_subjects, )\n",
    "\n",
    "    model_name = model_name.replace('SVWP_joint', 'WP')\n",
    "    model_name = model_name.replace('_joint', '-J')\n",
    "    model_name = model_name.replace('DCC_bivariate_loop', 'DCC-BL')\n",
    "    model_name = model_name.replace('SW_cross_validated', 'SW-CV')\n",
    "    model_name = model_name.replace('_', '-')\n",
    "\n",
    "    all_test_likelihoods_df[model_name] = likelihoods_array\n",
    "\n",
    "\n",
    "plot_likelihoods_raincloud(\n",
    "    config_dict=rockland_cfg,\n",
    "    all_test_likelihoods_df=all_test_likelihoods_df,\n",
    "    # figures_savedir=\"/Users/onnokampman/Developer/\"\n",
    ")"
   ]
  },
  {
   "attachments": {},
   "cell_type": "markdown",
   "metadata": {
    "collapsed": false,
    "pycharm": {
     "name": "#%% md\n"
    }
   },
   "source": [
    "## Kernel lengthscales and optimal window length"
   ]
  },
  {
   "cell_type": "code",
   "execution_count": null,
   "metadata": {},
   "outputs": [],
   "source": [
    "from helpers.kernel_analysis import plot_lengthscale_window_length_relation"
   ]
  },
  {
   "cell_type": "code",
   "execution_count": null,
   "metadata": {
    "collapsed": false,
    "pycharm": {
     "name": "#%%\n"
    }
   },
   "outputs": [],
   "source": [
    "kernel_params_savedir = os.path.join(\n",
    "    rockland_cfg['git-results-basedir'], 'kernel_analysis', data_split, model_name\n",
    ")\n",
    "kernel_params_df = pd.read_csv(\n",
    "    os.path.join(kernel_params_savedir, f'{kernel_param:s}_kernel_params.csv'),\n",
    "    index_col=0\n",
    ")\n",
    "print(kernel_params_df)\n",
    "optimal_window_lengths_df = pd.read_csv(\n",
    "    os.path.join(\n",
    "        rockland_cfg['git-results-basedir'], 'optimal_window_lengths', data_split, 'optimal_window_lengths.csv'\n",
    "    ),\n",
    "    index_col=0\n",
    ")\n",
    "print(optimal_window_lengths_df)\n",
    "\n",
    "# Prepare data for plot.\n",
    "assert kernel_params_df.shape == optimal_window_lengths_df.shape\n",
    "kernel_params_array = kernel_params_df.values.reshape(-1, 1)\n",
    "optimal_window_lengths_array = optimal_window_lengths_df.values.reshape(-1, 1)\n",
    "\n",
    "# Remove outliers. TODO: must be a better way of doing this\n",
    "kernel_params_array[kernel_params_array > 0.4] = 0.4"
   ]
  },
  {
   "cell_type": "code",
   "execution_count": null,
   "metadata": {
    "collapsed": false,
    "pycharm": {
     "name": "#%%\n"
    }
   },
   "outputs": [],
   "source": [
    "plot_lengthscale_window_length_relation(\n",
    "    rockland_cfg,\n",
    "    kernel_params_array,\n",
    "    optimal_window_lengths_array,\n",
    "    # figures_savedir=\"/Users/onnokampman/Developer/\"\n",
    ")"
   ]
  },
  {
   "cell_type": "code",
   "execution_count": null,
   "metadata": {
    "collapsed": false,
    "pycharm": {
     "name": "#%%\n"
    }
   },
   "outputs": [],
   "source": []
  }
 ],
 "metadata": {
  "kernelspec": {
   "display_name": "Python 3",
   "language": "python",
   "name": "python3"
  },
  "language_info": {
   "codemirror_mode": {
    "name": "ipython",
    "version": 3
   },
   "file_extension": ".py",
   "mimetype": "text/x-python",
   "name": "python",
   "nbconvert_exporter": "python",
   "pygments_lexer": "ipython3",
   "version": "3.10.8"
  }
 },
 "nbformat": 4,
 "nbformat_minor": 0
}
