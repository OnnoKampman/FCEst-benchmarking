{
 "cells": [
  {
   "attachments": {},
   "cell_type": "markdown",
   "metadata": {
    "collapsed": false,
    "pycharm": {
     "name": "#%% md\n"
    }
   },
   "source": [
    "# Plots and figures Simulations"
   ]
  },
  {
   "cell_type": "code",
   "execution_count": null,
   "metadata": {
    "collapsed": false,
    "pycharm": {
     "name": "#%%\n"
    }
   },
   "outputs": [],
   "source": [
    "%load_ext autoreload\n",
    "%autoreload 2\n",
    "\n",
    "import logging\n",
    "import os.path as path\n",
    "import os\n",
    "import socket\n",
    "import sys"
   ]
  },
  {
   "cell_type": "code",
   "execution_count": null,
   "metadata": {
    "collapsed": false,
    "pycharm": {
     "name": "#%%\n"
    }
   },
   "outputs": [],
   "source": [
    "import matplotlib\n",
    "import matplotlib as mpl\n",
    "import matplotlib.pyplot as plt\n",
    "print(\"Your style sheets are located at: {}\".format(path.join(mpl.__path__[0], 'mpl-data', 'stylelib')))\n",
    "\n",
    "import numpy as np\n",
    "import pandas as pd\n",
    "# import pingouin\n",
    "import ptitprince as pt\n",
    "# import scipy.stats\n",
    "import seaborn as sns\n",
    "\n",
    "%matplotlib inline"
   ]
  },
  {
   "cell_type": "code",
   "execution_count": null,
   "metadata": {
    "collapsed": false,
    "pycharm": {
     "name": "#%%\n"
    }
   },
   "outputs": [],
   "source": [
    "sys.path.append('..')\n",
    "\n",
    "from configs.configs import get_config_dict\n",
    "from helpers.figures import set_size"
   ]
  },
  {
   "cell_type": "code",
   "execution_count": null,
   "metadata": {
    "collapsed": false,
    "pycharm": {
     "name": "#%%\n"
    }
   },
   "outputs": [],
   "source": [
    "all_styles = [\n",
    "    'seaborn-dark',\n",
    "    'seaborn-darkgrid',\n",
    "    'seaborn-ticks', 'fivethirtyeight', 'seaborn-whitegrid', 'classic',\n",
    "    '_classic_test', 'fast', 'seaborn-talk', 'seaborn-dark-palette', 'seaborn-bright',\n",
    "    'seaborn-pastel', 'grayscale', 'seaborn-notebook', 'ggplot', 'seaborn-colorblind',\n",
    "    'seaborn-muted', 'seaborn', 'Solarize_Light2', 'seaborn-paper',\n",
    "    'bmh', 'tableau-colorblind10', 'seaborn-white', 'dark_background', 'seaborn-poster', 'seaborn-deep'\n",
    "]"
   ]
  },
  {
   "cell_type": "code",
   "execution_count": null,
   "metadata": {
    "collapsed": false,
    "pycharm": {
     "name": "#%%\n"
    }
   },
   "outputs": [],
   "source": [
    "plt.style.available"
   ]
  },
  {
   "cell_type": "code",
   "execution_count": null,
   "metadata": {
    "collapsed": false,
    "pycharm": {
     "name": "#%%\n"
    }
   },
   "outputs": [],
   "source": [
    "sns.set_style('whitegrid')\n",
    "# plt.style.use('tex')"
   ]
  },
  {
   "cell_type": "code",
   "execution_count": null,
   "metadata": {
    "collapsed": false,
    "pycharm": {
     "name": "#%%\n"
    }
   },
   "outputs": [],
   "source": [
    "# However, the figsize argument takes inputs in inches and we have the width of our document in pts. To set the figure size we construct a function to convert from pts to inches and to determine an aesthetic figure height using the golden ratio:"
   ]
  },
  {
   "attachments": {},
   "cell_type": "markdown",
   "metadata": {},
   "source": [
    "### Synthetic covariance structures"
   ]
  },
  {
   "cell_type": "code",
   "execution_count": null,
   "metadata": {},
   "outputs": [],
   "source": [
    "sim_cfg = get_config_dict(\n",
    "    data_set_name='sim',  # not used here\n",
    "    experiment_data='',  # not used here\n",
    "    hostname=socket.gethostname()\n",
    ")"
   ]
  },
  {
   "cell_type": "code",
   "execution_count": null,
   "metadata": {},
   "outputs": [],
   "source": [
    "from benchmarks.simulations.plotters.plot_covariance_structures import _plot_synthetic_covariance_structures"
   ]
  },
  {
   "cell_type": "code",
   "execution_count": null,
   "metadata": {},
   "outputs": [],
   "source": [
    "_plot_synthetic_covariance_structures(\n",
    "    config_dict=sim_cfg,\n",
    "    # figures_save_basedir=os.path.join(cfg['project-basedir'], 'opk20_hivemind_paper_1', 'figures', 'synthetic_data')\n",
    "    figures_save_basedir=\"/Users/onnokampman/Developer/\"\n",
    ")"
   ]
  },
  {
   "attachments": {},
   "cell_type": "markdown",
   "metadata": {},
   "source": [
    "### TVFC estimates time series"
   ]
  },
  {
   "cell_type": "code",
   "execution_count": null,
   "metadata": {},
   "outputs": [],
   "source": [
    "sim_cfg = get_config_dict(\n",
    "    data_set_name='d2',\n",
    "    experiment_data='N0400_T0200',\n",
    "    hostname=socket.gethostname()\n",
    ")"
   ]
  },
  {
   "cell_type": "markdown",
   "metadata": {},
   "source": [
    "#### Fig. 4"
   ]
  },
  {
   "cell_type": "code",
   "execution_count": null,
   "metadata": {},
   "outputs": [],
   "source": [
    "from benchmarks.simulations.plotters.plot_TVFC_estimates import _plot_d2_all_covariance_structures"
   ]
  },
  {
   "cell_type": "code",
   "execution_count": null,
   "metadata": {},
   "outputs": [],
   "source": [
    "_plot_d2_all_covariance_structures(\n",
    "    config_dict=sim_cfg,\n",
    "    signal_to_noise_ratio=0.0,\n",
    "    connectivity_metric='correlation',\n",
    "    time_series_noise_type='no_noise',\n",
    "    i_trial=0,\n",
    "    data_split='all',\n",
    "    # figures_savedir=os.path.join(\n",
    "    #     cfg['figures-basedir'], noise_type, data_split, \"TVFC_estimates\", f'trial_{i_trial:03d}'\n",
    "    # )\n",
    ")"
   ]
  },
  {
   "attachments": {},
   "cell_type": "markdown",
   "metadata": {},
   "source": [
    "### Quantitative results"
   ]
  },
  {
   "cell_type": "markdown",
   "metadata": {},
   "source": [
    "#### Fig. 5"
   ]
  },
  {
   "cell_type": "code",
   "execution_count": null,
   "metadata": {},
   "outputs": [],
   "source": [
    "# data_set_name = 'd2'\n",
    "# data_set_name = 'd3d'\n",
    "# data_set_name = 'd3s'\n",
    "# data_set_name = 'd4s'\n",
    "# data_set_name = 'd6s'\n",
    "# data_set_name = 'd9s'\n",
    "data_set_name = 'd15s'\n",
    "\n",
    "# experiment_data = 'N0400_T0200'\n",
    "# experiment_data = 'N0200_T0200'\n",
    "experiment_data = 'N0400_T0010'\n",
    "\n",
    "# noise_type = 'no_noise'\n",
    "noise_type = 'HCP_noise_snr_2'\n",
    "\n",
    "n_trials = int(experiment_data[-4:])\n",
    "data_split = 'all'\n",
    "\n",
    "# perform_metric = 'correlation_RMSE'\n",
    "perform_metric = 'correlation_matrix_RMSE'\n",
    "\n",
    "sim_cfg = get_config_dict(\n",
    "    data_set_name=data_set_name,\n",
    "    experiment_data=experiment_data,\n",
    "    hostname=socket.gethostname()\n",
    ")"
   ]
  },
  {
   "cell_type": "code",
   "execution_count": null,
   "metadata": {},
   "outputs": [],
   "source": [
    "from benchmarks.simulations.plotters.plot_quantitative_results import _plot_quantitative_results"
   ]
  },
  {
   "cell_type": "code",
   "execution_count": null,
   "metadata": {},
   "outputs": [],
   "source": [
    "matplotlib.colormaps.items"
   ]
  },
  {
   "cell_type": "code",
   "execution_count": null,
   "metadata": {},
   "outputs": [],
   "source": [
    "_plot_quantitative_results(\n",
    "    config_dict=sim_cfg,\n",
    "    performance_metric=perform_metric,\n",
    "    noise_type=noise_type,\n",
    "    data_split=data_split,\n",
    "    figures_savedir='/Users/onnokampman/Developer/'\n",
    ")"
   ]
  },
  {
   "cell_type": "code",
   "execution_count": null,
   "metadata": {},
   "outputs": [],
   "source": [
    "cmap = matplotlib.colormaps['tab10']\n",
    "# cmap = matplotlib.colormaps.get_cmap('tab10')\n",
    "\n",
    "cmap\n",
    "# cmap(0)"
   ]
  },
  {
   "attachments": {},
   "cell_type": "markdown",
   "metadata": {
    "collapsed": false,
    "pycharm": {
     "name": "#%% md\n"
    }
   },
   "source": [
    "### Imputation study"
   ]
  },
  {
   "cell_type": "code",
   "execution_count": null,
   "metadata": {
    "collapsed": false,
    "pycharm": {
     "name": "#%%\n"
    }
   },
   "outputs": [],
   "source": [
    "from benchmarks.simulations.imputation_study.plot_LEOO_likelihoods import _plot_raincloud"
   ]
  },
  {
   "cell_type": "code",
   "execution_count": null,
   "metadata": {},
   "outputs": [],
   "source": [
    "data_set_name = 'd2'"
   ]
  },
  {
   "cell_type": "code",
   "execution_count": null,
   "metadata": {},
   "outputs": [],
   "source": [
    "data_split = 'LEOO'\n",
    "noise_type = 'no_noise'\n",
    "sim_cfg = get_config_dict(\n",
    "    data_set_name=data_set_name,\n",
    "    experiment_data='N0400_T0200',\n",
    "    hostname=socket.gethostname()\n",
    ")"
   ]
  },
  {
   "cell_type": "code",
   "execution_count": null,
   "metadata": {
    "collapsed": false,
    "pycharm": {
     "name": "#%%\n"
    }
   },
   "outputs": [],
   "source": [
    "# Plot all covariance structures for a single method.\n",
    "model_name = 'DCC_joint'\n",
    "\n",
    "likelihoods_filename = f'{data_split:s}_{noise_type:s}_likelihoods_{model_name:s}.csv'\n",
    "test_likelihoods_savedir = os.path.join(sim_cfg['git-results-basedir'], 'imputation_study')\n",
    "test_likelihoods_savepath = os.path.join(test_likelihoods_savedir, likelihoods_filename)\n",
    "\n",
    "if os.path.exists(test_likelihoods_savepath):\n",
    "    logging.info(f\"Loading '{test_likelihoods_savepath:s}'...\")\n",
    "    likelihoods_df = pd.read_csv(test_likelihoods_savepath, index_col=0)  # (n_trials, n_covs_types)\n",
    "    likelihoods_df = likelihoods_df.loc[:, sim_cfg['plot-covs-types']]\n",
    "\n",
    "    # Update covs types labels for plots.\n",
    "    likelihoods_df.columns = likelihoods_df.columns.str.replace('periodic_1', 'periodic (slow)')\n",
    "    likelihoods_df.columns = likelihoods_df.columns.str.replace('periodic_3', 'periodic (fast)')\n",
    "    likelihoods_df.columns = likelihoods_df.columns.str.replace('checkerboard', 'boxcar')\n",
    "    likelihoods_df.columns = likelihoods_df.columns.str.replace('_', ' ')\n",
    "\n",
    "    # print(likelihoods_df)\n",
    "    _plot_raincloud(\n",
    "        config_dict=sim_cfg,\n",
    "        test_likelihoods_df=likelihoods_df,\n",
    "        noise_type=noise_type,\n",
    "        palette=sim_cfg['plot-covs-types-palette'],\n",
    "        model_name=model_name\n",
    "    )"
   ]
  },
  {
   "cell_type": "code",
   "execution_count": null,
   "metadata": {
    "collapsed": false,
    "pycharm": {
     "name": "#%%\n"
    }
   },
   "outputs": [],
   "source": [
    "# Plot all methods for a single covariance structure.\n",
    "covs_type = 'null'\n",
    "# covs_type = 'periodic_1'\n",
    "n_trials = 200\n",
    "\n",
    "covs_type_df = pd.DataFrame(\n",
    "    np.nan,\n",
    "    index=np.arange(n_trials),\n",
    "    columns=sim_cfg['plot-models']\n",
    ")\n",
    "for model_name in sim_cfg['plot-models']:\n",
    "    likelihoods_filename = f'{data_split:s}_{noise_type:s}_likelihoods_{model_name:s}.csv'\n",
    "    test_likelihoods_savedir = os.path.join(sim_cfg['git-results-basedir'], 'imputation_study')\n",
    "    test_likelihoods_savepath = os.path.join(test_likelihoods_savedir, likelihoods_filename)\n",
    "    if os.path.exists(test_likelihoods_savepath):\n",
    "        likelihoods_df = pd.read_csv(test_likelihoods_savepath, index_col=0)  # (n_trials, n_train_covs_types)\n",
    "        # assert likelihoods_df.shape == (n_trials, len(sim_cfg['train-covs-types']))\n",
    "        likelihoods_df = likelihoods_df.loc[:, sim_cfg['plot-covs-types']]\n",
    "        # print(likelihoods_df)\n",
    "        covs_type_df.loc[:, model_name] = likelihoods_df.loc[:, covs_type]\n",
    "    else:\n",
    "        logging.warning(f\"{test_likelihoods_savepath:s} not found.\")\n",
    "print(covs_type_df)\n",
    "\n",
    "# Update model names labels for plots.\n",
    "covs_type_df.columns = covs_type_df.columns.str.replace('SVWP_joint', 'WP')\n",
    "covs_type_df.columns = covs_type_df.columns.str.replace('SVWP', 'WP')\n",
    "covs_type_df.columns = covs_type_df.columns.str.replace('SW_cross_validated', 'SW-CV')\n",
    "if data_set_name == 'd2':\n",
    "    covs_type_df.columns = covs_type_df.columns.str.replace('_joint', '')\n",
    "else:\n",
    "    covs_type_df.columns = covs_type_df.columns.str.replace('_joint', '-J')\n",
    "    covs_type_df.columns = covs_type_df.columns.str.replace('_bivariate_loop', '-BL')\n",
    "covs_type_df.columns = covs_type_df.columns.str.replace('_', ' ')\n",
    "\n",
    "_plot_raincloud(\n",
    "    config_dict=sim_cfg,\n",
    "    test_likelihoods_df=covs_type_df,\n",
    "    noise_type=noise_type,\n",
    "    palette=sim_cfg['plot-methods-palette'],\n",
    "    covs_type=covs_type,\n",
    "    figures_savedir=\"/Users/onnokampman/Developer/\"\n",
    ")"
   ]
  },
  {
   "attachments": {},
   "cell_type": "markdown",
   "metadata": {},
   "source": [
    "### Learned kernel lengthscales"
   ]
  },
  {
   "cell_type": "code",
   "execution_count": null,
   "metadata": {
    "collapsed": false,
    "pycharm": {
     "name": "#%%\n"
    }
   },
   "outputs": [],
   "source": [
    "from benchmarks.simulations.plotters.plot_kernel_lengthscales import _plot_kernel_lengthscales"
   ]
  },
  {
   "cell_type": "code",
   "execution_count": null,
   "metadata": {},
   "outputs": [],
   "source": [
    "data_split = 'all'\n",
    "kernel_param = 'kernel_lengthscales'\n",
    "model_name = 'SVWP'\n",
    "noise_type = 'no_noise'\n",
    "\n",
    "sim_cfg = get_config_dict(\n",
    "    data_set_name='d2',\n",
    "    experiment_data='N0400_T0200',\n",
    "    hostname=socket.gethostname()\n",
    ")"
   ]
  },
  {
   "cell_type": "code",
   "execution_count": null,
   "metadata": {},
   "outputs": [],
   "source": [
    "kernel_lengthscales_df_filepath = os.path.join(\n",
    "    sim_cfg['git-results-basedir'], noise_type, data_split, f'{model_name:s}_{kernel_param:s}_kernel_params.csv'\n",
    ")\n",
    "kernel_lengthscales_df = pd.read_csv(\n",
    "    kernel_lengthscales_df_filepath,\n",
    "    index_col=0\n",
    ")\n",
    "kernel_lengthscales_df = kernel_lengthscales_df.loc[:, sim_cfg['plot-covs-types']]\n",
    "\n",
    "# Update covs types labels for plots.\n",
    "kernel_lengthscales_df.columns = kernel_lengthscales_df.columns.str.replace('periodic_1', 'periodic (slow)')\n",
    "kernel_lengthscales_df.columns = kernel_lengthscales_df.columns.str.replace('periodic_3', 'periodic (fast)')\n",
    "kernel_lengthscales_df.columns = kernel_lengthscales_df.columns.str.replace('checkerboard', 'boxcar')\n",
    "kernel_lengthscales_df.columns = kernel_lengthscales_df.columns.str.replace('_', ' ')\n",
    "\n",
    "_plot_kernel_lengthscales(\n",
    "    config_dict=sim_cfg,\n",
    "    model_name=model_name,\n",
    "    kernel_lengthscales_df=kernel_lengthscales_df,\n",
    "    figure_savedir='/Users/onnokampman/Developer/'\n",
    ")"
   ]
  },
  {
   "attachments": {},
   "cell_type": "markdown",
   "metadata": {},
   "source": [
    "### Optimal window lengths"
   ]
  },
  {
   "cell_type": "code",
   "execution_count": null,
   "metadata": {},
   "outputs": [],
   "source": [
    "from benchmarks.simulations.plotters.plot_optimal_window_lengths import _plot_optimal_window_lengths"
   ]
  },
  {
   "cell_type": "code",
   "execution_count": null,
   "metadata": {
    "collapsed": false,
    "pycharm": {
     "name": "#%%\n"
    }
   },
   "outputs": [],
   "source": [
    "optimal_window_lengths_df = pd.read_csv(\n",
    "    os.path.join(\n",
    "        sim_cfg['git-results-basedir'], noise_type, data_split, 'optimal_window_lengths.csv'\n",
    "    ),\n",
    "    index_col=0\n",
    ")\n",
    "optimal_window_lengths_df = optimal_window_lengths_df.loc[:, sim_cfg['plot-covs-types']]\n",
    "\n",
    "# Update covs types labels for plots.\n",
    "optimal_window_lengths_df.columns = optimal_window_lengths_df.columns.str.replace('periodic_1', 'periodic (slow)')\n",
    "optimal_window_lengths_df.columns = optimal_window_lengths_df.columns.str.replace('periodic_3', 'periodic (fast)')\n",
    "optimal_window_lengths_df.columns = optimal_window_lengths_df.columns.str.replace('checkerboard', 'boxcar')\n",
    "optimal_window_lengths_df.columns = optimal_window_lengths_df.columns.str.replace('_', ' ')\n",
    "\n",
    "_plot_optimal_window_lengths(\n",
    "    config_dict=sim_cfg,\n",
    "    optimal_window_lengths_df=optimal_window_lengths_df,\n",
    "    figure_savedir='/Users/onnokampman/Developer/'\n",
    ")\n"
   ]
  },
  {
   "cell_type": "code",
   "execution_count": null,
   "metadata": {},
   "outputs": [],
   "source": []
  }
 ],
 "metadata": {
  "kernelspec": {
   "display_name": "Python 3",
   "language": "python",
   "name": "python3"
  },
  "language_info": {
   "codemirror_mode": {
    "name": "ipython",
    "version": 3
   },
   "file_extension": ".py",
   "mimetype": "text/x-python",
   "name": "python",
   "nbconvert_exporter": "python",
   "pygments_lexer": "ipython3",
   "version": "3.10.13"
  }
 },
 "nbformat": 4,
 "nbformat_minor": 0
}
